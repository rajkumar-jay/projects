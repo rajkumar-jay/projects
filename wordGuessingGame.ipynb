{
 "cells": [
  {
   "cell_type": "code",
   "execution_count": 3,
   "id": "9e65f758-e209-4cc4-b06d-0bfc5637d452",
   "metadata": {},
   "outputs": [
    {
     "name": "stdin",
     "output_type": "stream",
     "text": [
      "Enter your name: jay\n"
     ]
    },
    {
     "name": "stdout",
     "output_type": "stream",
     "text": [
      "Welcome to the word guessing game jay\n",
      "guess the character\n",
      "-\n",
      "-\n",
      "-\n",
      "\n"
     ]
    },
    {
     "name": "stdin",
     "output_type": "stream",
     "text": [
      "guess a character: t\n"
     ]
    },
    {
     "name": "stdout",
     "output_type": "stream",
     "text": [
      " wrong guess jay you have 9 left\n",
      "-\n",
      "-\n",
      "-\n",
      "\n"
     ]
    },
    {
     "name": "stdin",
     "output_type": "stream",
     "text": [
      "guess a character: tea\n"
     ]
    },
    {
     "name": "stdout",
     "output_type": "stream",
     "text": [
      " wrong guess jay you have 8 left\n",
      "-\n",
      "a-\n",
      "\n"
     ]
    },
    {
     "name": "stdin",
     "output_type": "stream",
     "text": [
      "guess a character: computer\n"
     ]
    },
    {
     "name": "stdout",
     "output_type": "stream",
     "text": [
      " wrong guess jay you have 7 left\n",
      "-\n",
      "a-\n",
      "\n"
     ]
    },
    {
     "name": "stdin",
     "output_type": "stream",
     "text": [
      "guess a character: t\n"
     ]
    },
    {
     "name": "stdout",
     "output_type": "stream",
     "text": [
      " wrong guess jay you have 6 left\n",
      "-\n",
      "a-\n",
      "\n"
     ]
    },
    {
     "name": "stdin",
     "output_type": "stream",
     "text": [
      "guess a character: b\n"
     ]
    },
    {
     "name": "stdout",
     "output_type": "stream",
     "text": [
      "ba-\n",
      "\n"
     ]
    },
    {
     "name": "stdin",
     "output_type": "stream",
     "text": [
      "guess a character: g\n"
     ]
    },
    {
     "name": "stdout",
     "output_type": "stream",
     "text": [
      "bagcongratulations you winjay word is bag\n"
     ]
    }
   ],
   "source": [
    "import random\n",
    "name = input(\"Enter your name:\")\n",
    "print(f\"Welcome to the word guessing game {name}\")\n",
    "words =[\"computer\",\"programming\",\"rain\",\"python\",\"sun\",\"water\",\"coffee\",\"tea\",\"bed\",\"bag\"]\n",
    "word = random.choice(words)\n",
    "print(\"guess the character\")\n",
    "guesses =''\n",
    "turns=10\n",
    "while turns >0:\n",
    "    failed=0\n",
    "    for ch in word:\n",
    "        if ch in guesses:\n",
    "            print(ch,end ='')\n",
    "        else:\n",
    "            print(\"-\")\n",
    "            failed+=1\n",
    "    if failed ==0:\n",
    "        print(f\"congratulations you win{name} word is {word}\")\n",
    "        break\n",
    "    print()\n",
    "    guess= input(\"guess a character:\")\n",
    "    guesses += guess\n",
    "    if guess not in word:\n",
    "        turns -=1\n",
    "        print(f\" wrong guess {name} you have {+turns} left\")\n",
    "        if turns ==0:\n",
    "            print(f\"Sorry{name} you loose Better luck next time\")\n",
    "        "
   ]
  },
  {
   "cell_type": "code",
   "execution_count": null,
   "id": "ac9b2977-fddc-4b87-b7be-a70f75c78629",
   "metadata": {},
   "outputs": [],
   "source": []
  }
 ],
 "metadata": {
  "kernelspec": {
   "display_name": "Python 3 (ipykernel)",
   "language": "python",
   "name": "python3"
  },
  "language_info": {
   "codemirror_mode": {
    "name": "ipython",
    "version": 3
   },
   "file_extension": ".py",
   "mimetype": "text/x-python",
   "name": "python",
   "nbconvert_exporter": "python",
   "pygments_lexer": "ipython3",
   "version": "3.11.7"
  }
 },
 "nbformat": 4,
 "nbformat_minor": 5
}
