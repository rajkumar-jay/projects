{
 "cells": [
  {
   "cell_type": "code",
   "execution_count": 3,
   "id": "c3d482d5-6a54-4d35-a874-b994da43a91b",
   "metadata": {},
   "outputs": [],
   "source": [
    "import random"
   ]
  },
  {
   "cell_type": "code",
   "execution_count": 13,
   "id": "48db1a70-1c6f-4318-94dd-9415b82337bb",
   "metadata": {},
   "outputs": [
    {
     "name": "stdout",
     "output_type": "stream",
     "text": [
      "Welocome to the number guessing game, you got 7 chances...let's start\n"
     ]
    },
    {
     "name": "stdin",
     "output_type": "stream",
     "text": [
      "enter your guess: 50\n"
     ]
    },
    {
     "name": "stdout",
     "output_type": "stream",
     "text": [
      "you have guessed too small\n"
     ]
    },
    {
     "name": "stdin",
     "output_type": "stream",
     "text": [
      "enter your guess: 75\n"
     ]
    },
    {
     "name": "stdout",
     "output_type": "stream",
     "text": [
      "you have guessed too small\n"
     ]
    },
    {
     "name": "stdin",
     "output_type": "stream",
     "text": [
      "enter your guess: 88\n"
     ]
    },
    {
     "name": "stdout",
     "output_type": "stream",
     "text": [
      "you have guessed too small\n"
     ]
    },
    {
     "name": "stdin",
     "output_type": "stream",
     "text": [
      "enter your guess: 94\n"
     ]
    },
    {
     "name": "stdout",
     "output_type": "stream",
     "text": [
      " You have guessed too high\n"
     ]
    },
    {
     "name": "stdin",
     "output_type": "stream",
     "text": [
      "enter your guess: 91\n"
     ]
    },
    {
     "name": "stdout",
     "output_type": "stream",
     "text": [
      " You have guessed too high\n"
     ]
    },
    {
     "name": "stdin",
     "output_type": "stream",
     "text": [
      "enter your guess: 90\n"
     ]
    },
    {
     "name": "stdout",
     "output_type": "stream",
     "text": [
      " You have guessed too high\n"
     ]
    },
    {
     "name": "stdin",
     "output_type": "stream",
     "text": [
      "enter your guess: 89\n"
     ]
    },
    {
     "name": "stdout",
     "output_type": "stream",
     "text": [
      "you have guessed it correctly in the 7 option\n"
     ]
    }
   ],
   "source": [
    "print(\"Welocome to the number guessing game, you got 7 chances...let's start\")\n",
    "number_to_guess=random.randrange(100)\n",
    "chances=7\n",
    "guess_count = 0\n",
    "while guess_count < chances:\n",
    "    guess_count +=1\n",
    "    my_guess = int(input(\"enter your guess:\"))\n",
    "    if my_guess ==number_to_guess:\n",
    "        print(f\"you have guessed it correctly in the {guess_count} option\")\n",
    "        break\n",
    "    elif  guess_count >= chances and my_guess != number_to_guess:\n",
    "        print(f\"oops sorry! your chances {chances} excedded,better luck next time\")\n",
    "    elif my_guess >number_to_guess:\n",
    "        print(\" You have guessed too high\")\n",
    "    elif my_guess < number_to_guess:\n",
    "        print(\"you have guessed too small\")"
   ]
  },
  {
   "cell_type": "code",
   "execution_count": null,
   "id": "2f6a8946-bd09-4616-9506-77790a7345e8",
   "metadata": {},
   "outputs": [],
   "source": []
  }
 ],
 "metadata": {
  "kernelspec": {
   "display_name": "Python 3 (ipykernel)",
   "language": "python",
   "name": "python3"
  },
  "language_info": {
   "codemirror_mode": {
    "name": "ipython",
    "version": 3
   },
   "file_extension": ".py",
   "mimetype": "text/x-python",
   "name": "python",
   "nbconvert_exporter": "python",
   "pygments_lexer": "ipython3",
   "version": "3.11.7"
  }
 },
 "nbformat": 4,
 "nbformat_minor": 5
}
